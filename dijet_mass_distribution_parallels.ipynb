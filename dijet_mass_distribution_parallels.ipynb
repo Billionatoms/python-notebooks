{
 "cells": [
  {
   "cell_type": "code",
   "execution_count": 82,
   "metadata": {},
   "outputs": [],
   "source": [
    "import uproot\n",
    "import numpy as np\n",
    "import matplotlib.pyplot as plt\n",
    "from multiprocessing import Pool"
   ]
  },
  {
   "cell_type": "code",
   "execution_count": 83,
   "metadata": {},
   "outputs": [],
   "source": [
    "# Open the ROOT file and extract necessary branches\n",
    "file = uproot.open(\"/mnt/c/Users/Saurabh/cernbox/muonc/btagging/samples/v0.0.1/mumu_H_bb_10TeV.00000.lctuple.root\")\n",
    "tree = file[\"LCTuple\"]\n",
    "\n",
    "# Extract jet and truth quark data\n",
    "jet_mom_x = tree[\"jmox\"].array()\n",
    "jet_mom_y = tree[\"jmoy\"].array()\n",
    "jet_mom_z = tree[\"jmoz\"].array()\n",
    "jet_energy = tree[\"jene\"].array()\n",
    "\n",
    "\n",
    "# Extract truth quark (mc) data\n",
    "mc_mom_x = tree[\"mcmox\"].array()\n",
    "mc_mom_y = tree[\"mcmoy\"].array()\n",
    "mc_mom_z = tree[\"mcmoz\"].array()\n",
    "mc_pdgid = tree[\"mcpdg\"].array()\n",
    "mc_status = tree[\"mcgst\"].array()"
   ]
  },
  {
   "cell_type": "code",
   "execution_count": 84,
   "metadata": {},
   "outputs": [],
   "source": [
    "# Function to calculate pseudorapidity (eta) from momentum components\n",
    "def calculate_eta(px, py, pz):\n",
    "    pt = np.sqrt(px**2 + py**2)  # Transverse momentum\n",
    "    theta = np.arctan2(pt, pz)   # Polar angle\n",
    "    eta = -np.log(np.tan(theta / 2))  # Pseudorapidity\n",
    "    return eta"
   ]
  },
  {
   "cell_type": "code",
   "execution_count": 85,
   "metadata": {},
   "outputs": [],
   "source": [
    "# Function to calculate the azimuthal angle (phi) from momentum components\n",
    "def calculate_phi(px, py):\n",
    "    return np.arctan2(py, px)"
   ]
  },
  {
   "cell_type": "code",
   "execution_count": 86,
   "metadata": {},
   "outputs": [],
   "source": [
    "# Function to calculate ΔR (distance in eta-phi space)\n",
    "def delta_R(eta1, phi1, eta2, phi2):\n",
    "    dphi = np.abs(phi1 - phi2)\n",
    "    dphi = np.where(dphi > np.pi, 2*np.pi - dphi, dphi)  # Handle periodicity in phi\n",
    "    delta_r = np.sqrt((eta1 - eta2)**2 + dphi**2)\n",
    "    return delta_r"
   ]
  },
  {
   "cell_type": "code",
   "execution_count": 87,
   "metadata": {},
   "outputs": [],
   "source": [
    "# Helper function to check if a variable is a scalar or array-like\n",
    "def is_scalar(value):\n",
    "    return np.isscalar(value)"
   ]
  },
  {
   "cell_type": "code",
   "execution_count": 96,
   "metadata": {},
   "outputs": [],
   "source": [
    "# Function to match jets to truth quarks\n",
    "def match_jet_to_quark(jet_eta, jet_phi, quark_eta, quark_phi, threshold=0.8):\n",
    "    # Handle cases where jet_eta and quark_eta might be scalars\n",
    "    if is_scalar(jet_eta) or is_scalar(quark_eta):\n",
    "        return None, None\n",
    "\n",
    "    # Calculate ΔR (distance in eta-phi space)\n",
    "    delta_r = delta_R(jet_eta, jet_phi, quark_eta, quark_phi)\n",
    "    \n",
    "    # If delta_r is empty, return None\n",
    "    if len(delta_r) == 0:\n",
    "        return None, None\n",
    "\n",
    "    delta_r_min_idx = np.argmin(delta_r.to_numpy())  # Convert awkward array to numpy array\n",
    "    delta_r_min = delta_r[delta_r_min_idx]\n",
    "    \n",
    "    # Only return match if the minimum delta R is within the threshold\n",
    "    if delta_r_min < threshold:\n",
    "        return delta_r_min_idx, delta_r_min\n",
    "    else:\n",
    "        return None, None"
   ]
  },
  {
   "cell_type": "code",
   "execution_count": 97,
   "metadata": {},
   "outputs": [],
   "source": [
    "# Function to calculate dijet invariant mass\n",
    "def calculate_invariant_mass(jet_momenta):\n",
    "    px1, py1, pz1, E1 = jet_momenta[0]\n",
    "    px2, py2, pz2, E2 = jet_momenta[1]\n",
    "    inv_mass = np.sqrt((E1 + E2)**2 - (px1 + px2)**2 - (py1 + py2)**2 - (pz1 + pz2)**2)\n",
    "    return inv_mass"
   ]
  },
  {
   "cell_type": "code",
   "execution_count": 98,
   "metadata": {},
   "outputs": [],
   "source": [
    "# Function to handle jet to quark matching in parallel\n",
    "def process_event(event_data):\n",
    "    jet_px, jet_py, jet_pz, jet_E = event_data['jets']\n",
    "    quark_px, quark_py, quark_pz = event_data['quarks']\n",
    "    \n",
    "    # Calculate jet eta and phi from jet momentum components\n",
    "    jet_eta = calculate_eta(jet_px, jet_py, jet_pz)\n",
    "    jet_phi = calculate_phi(jet_px, jet_py)\n",
    "    \n",
    "    # Calculate quark eta and phi from quark momentum components\n",
    "    quark_eta = calculate_eta(quark_px, quark_py, quark_pz)\n",
    "    quark_phi = calculate_phi(quark_px, quark_py)\n",
    "    \n",
    "    # Match each quark with the closest jet\n",
    "    match_indices = []\n",
    "    for i in range(len(quark_eta)):\n",
    "        match_idx, delta_r = match_jet_to_quark(jet_eta, jet_phi, quark_eta[i], quark_phi[i])\n",
    "        match_indices.append((match_idx, delta_r))\n",
    "    \n",
    "    # Calculate the dijet invariant mass (if there are at least 2 jets)\n",
    "    if len(jet_px) >= 2:\n",
    "        jet_momenta = [\n",
    "            (jet_px[0], jet_py[0], jet_pz[0], jet_E[0]),\n",
    "            (jet_px[1], jet_py[1], jet_pz[1], jet_E[1])\n",
    "        ]\n",
    "        inv_mass = calculate_invariant_mass(jet_momenta)\n",
    "    else:\n",
    "        inv_mass = None\n",
    "    \n",
    "    return match_indices, inv_mass\n"
   ]
  },
  {
   "cell_type": "code",
   "execution_count": 99,
   "metadata": {},
   "outputs": [],
   "source": [
    "# Filter truth quarks based on pdg_id (5 for b-quarks) and generator status\n",
    "hard_scatter_quarks = (np.abs(mc_pdgid) == 5) & (mc_status != 0)"
   ]
  },
  {
   "cell_type": "code",
   "execution_count": 100,
   "metadata": {},
   "outputs": [],
   "source": [
    "# Organize event data for multiprocessing\n",
    "event_data = []\n",
    "for i in range(len(jet_mom_x)):\n",
    "    quark_px = mc_mom_x[i][hard_scatter_quarks[i]]\n",
    "    quark_py = mc_mom_y[i][hard_scatter_quarks[i]]\n",
    "    quark_pz = mc_mom_z[i][hard_scatter_quarks[i]]\n",
    "    \n",
    "    jets = {\n",
    "        'jets': (jet_mom_x[i], jet_mom_y[i], jet_mom_z[i], jet_energy[i]),\n",
    "        'quarks': (quark_px, quark_py, quark_pz)\n",
    "    }\n",
    "    event_data.append(jets)"
   ]
  },
  {
   "cell_type": "code",
   "execution_count": 101,
   "metadata": {},
   "outputs": [],
   "source": [
    "# Use multiprocessing to process events in parallel\n",
    "with Pool() as pool:\n",
    "    results = pool.map(process_event, event_data)"
   ]
  },
  {
   "cell_type": "code",
   "execution_count": 102,
   "metadata": {},
   "outputs": [],
   "source": [
    "# Extract dijet masses and match results\n",
    "dijet_masses = [res[1] for res in results if res[1] is not None]\n",
    "quark_jet_matches = [res[0] for res in results]"
   ]
  },
  {
   "cell_type": "code",
   "execution_count": 103,
   "metadata": {},
   "outputs": [
    {
     "data": {
      "image/png": "[encoded data removed]",
      "text/plain": [
       "<Figure size 640x480 with 1 Axes>"
      ]
     },
     "metadata": {},
     "output_type": "display_data"
    }
   ],
   "source": [
    "# Plot the dijet invariant mass\n",
    "plt.hist(dijet_masses, bins=100, range=(0, 200), label='Dijet Mass')\n",
    "plt.xlabel('Dijet Invariant Mass [GeV]')\n",
    "plt.ylabel('Number of events')\n",
    "plt.legend()\n",
    "plt.title('Dijet Invariant Mass Distribution')\n",
    "plt.show()"
   ]
  },
  {
   "cell_type": "code",
   "execution_count": null,
   "metadata": {},
   "outputs": [],
   "source": []
  }
 ],
 "metadata": {
  "kernelspec": {
   "display_name": "Python 3",
   "language": "python",
   "name": "python3"
  },
  "language_info": {
   "codemirror_mode": {
    "name": "ipython",
    "version": 3
   },
   "file_extension": ".py",
   "mimetype": "text/x-python",
   "name": "python",
   "nbconvert_exporter": "python",
   "pygments_lexer": "ipython3",
   "version": "3.12.6"
  }
 },
 "nbformat": 4,
 "nbformat_minor": 2
}
